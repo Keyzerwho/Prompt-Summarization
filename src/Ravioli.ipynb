{
 "cells": [
  {
   "cell_type": "code",
   "execution_count": 18,
   "id": "57ad2319",
   "metadata": {},
   "outputs": [],
   "source": [
    "import pandas as pd\n",
    "import numpy as np\n",
    "import json, glob\n",
    "import itertools\n",
    "import os\n",
    "from pathlib import Path"
   ]
  },
  {
   "cell_type": "code",
   "execution_count": 8,
   "id": "6b009f09",
   "metadata": {},
   "outputs": [],
   "source": [
    "exp_dir = Path('../data/experiments/11-27-2021/13_36')\n",
    "manifest = exp_dir / 'test.json'\n",
    "res_file = exp_dir / 'all_results.json'"
   ]
  },
  {
   "cell_type": "code",
   "execution_count": 9,
   "id": "7cef67b2",
   "metadata": {},
   "outputs": [
    {
     "data": {
      "text/plain": [
       "6"
      ]
     },
     "execution_count": 9,
     "metadata": {},
     "output_type": "execute_result"
    }
   ],
   "source": [
    "results = json.load(open(res_file))\n",
    "prompts = json.load(open(manifest))\n",
    "assert len(results) == len(prompts)\n",
    "len(prompts)"
   ]
  },
  {
   "cell_type": "code",
   "execution_count": 20,
   "id": "c56da6e3",
   "metadata": {},
   "outputs": [],
   "source": [
    "a = list(itertools.product(['-2=>', '-1=>', 'False=>', 'True=>'], ['-2', '-1', 'False', 'True']))\n",
    "a = [''.join(b) for b in a]"
   ]
  },
  {
   "cell_type": "code",
   "execution_count": 32,
   "id": "ddaece08",
   "metadata": {},
   "outputs": [],
   "source": [
    "def split_prob(prob, keep_filename=True):\n",
    "    tmp = prob.split('Prompt-Summarization/data/')[1]\n",
    "    if keep_filename:\n",
    "        return tmp\n",
    "    return os.path.split(tmp)[0]"
   ]
  },
  {
   "cell_type": "code",
   "execution_count": 34,
   "id": "a51187fd",
   "metadata": {},
   "outputs": [
    {
     "data": {
      "text/plain": [
       "{'competition/2000',\n",
       " 'studio21_generated/competition/2002',\n",
       " 'studio21_generated/test/competition/3000'}"
      ]
     },
     "execution_count": 34,
     "metadata": {},
     "output_type": "execute_result"
    }
   ],
   "source": [
    "probs = {split_prob(prompt, False) for prompt in prompts}\n",
    "probs"
   ]
  },
  {
   "cell_type": "code",
   "execution_count": 35,
   "id": "9b81069f",
   "metadata": {},
   "outputs": [
    {
     "data": {
      "text/plain": [
       "['studio21_generated/competition/2002/expert.txt',\n",
       " 'studio21_generated/competition/2002/question.txt',\n",
       " 'studio21_generated/test/competition/3000/expert.txt',\n",
       " 'studio21_generated/test/competition/3000/question.txt',\n",
       " 'competition/2000/expert.txt',\n",
       " 'competition/2000/question.txt']"
      ]
     },
     "execution_count": 35,
     "metadata": {},
     "output_type": "execute_result"
    }
   ],
   "source": [
    "questions = [split_prob(prompt) for prompt in prompts]\n",
    "questions"
   ]
  },
  {
   "cell_type": "code",
   "execution_count": 79,
   "id": "f9698083",
   "metadata": {},
   "outputs": [],
   "source": [
    "acc = pd.DataFrame(0, index=questions, columns=[-2, -1, False, True])\n",
    "for res, prompt in zip(results.values(), questions):\n",
    "    i = 0\n",
    "    for r in res[0]:\n",
    "        i += 1\n",
    "        acc.loc[prompt, r] +=1"
   ]
  },
  {
   "cell_type": "code",
   "execution_count": 80,
   "id": "c61cbdf0",
   "metadata": {},
   "outputs": [
    {
     "data": {
      "text/html": [
       "<div>\n",
       "<style scoped>\n",
       "    .dataframe tbody tr th:only-of-type {\n",
       "        vertical-align: middle;\n",
       "    }\n",
       "\n",
       "    .dataframe tbody tr th {\n",
       "        vertical-align: top;\n",
       "    }\n",
       "\n",
       "    .dataframe thead th {\n",
       "        text-align: right;\n",
       "    }\n",
       "</style>\n",
       "<table border=\"1\" class=\"dataframe\">\n",
       "  <thead>\n",
       "    <tr style=\"text-align: right;\">\n",
       "      <th></th>\n",
       "      <th>-2</th>\n",
       "      <th>-1</th>\n",
       "      <th>False</th>\n",
       "      <th>True</th>\n",
       "    </tr>\n",
       "  </thead>\n",
       "  <tbody>\n",
       "    <tr>\n",
       "      <th>studio21_generated/competition/2002/expert.txt</th>\n",
       "      <td>0</td>\n",
       "      <td>19</td>\n",
       "      <td>0</td>\n",
       "      <td>0</td>\n",
       "    </tr>\n",
       "    <tr>\n",
       "      <th>studio21_generated/competition/2002/question.txt</th>\n",
       "      <td>1</td>\n",
       "      <td>0</td>\n",
       "      <td>0</td>\n",
       "      <td>0</td>\n",
       "    </tr>\n",
       "    <tr>\n",
       "      <th>studio21_generated/test/competition/3000/expert.txt</th>\n",
       "      <td>0</td>\n",
       "      <td>5</td>\n",
       "      <td>0</td>\n",
       "      <td>1</td>\n",
       "    </tr>\n",
       "    <tr>\n",
       "      <th>studio21_generated/test/competition/3000/question.txt</th>\n",
       "      <td>0</td>\n",
       "      <td>2</td>\n",
       "      <td>4</td>\n",
       "      <td>0</td>\n",
       "    </tr>\n",
       "    <tr>\n",
       "      <th>competition/2000/expert.txt</th>\n",
       "      <td>0</td>\n",
       "      <td>0</td>\n",
       "      <td>3</td>\n",
       "      <td>16</td>\n",
       "    </tr>\n",
       "    <tr>\n",
       "      <th>competition/2000/question.txt</th>\n",
       "      <td>0</td>\n",
       "      <td>19</td>\n",
       "      <td>0</td>\n",
       "      <td>0</td>\n",
       "    </tr>\n",
       "  </tbody>\n",
       "</table>\n",
       "</div>"
      ],
      "text/plain": [
       "                                                    -2  -1  False  True\n",
       "studio21_generated/competition/2002/expert.txt       0  19      0     0\n",
       "studio21_generated/competition/2002/question.txt     1   0      0     0\n",
       "studio21_generated/test/competition/3000/expert...   0   5      0     1\n",
       "studio21_generated/test/competition/3000/questi...   0   2      4     0\n",
       "competition/2000/expert.txt                          0   0      3    16\n",
       "competition/2000/question.txt                        0  19      0     0"
      ]
     },
     "execution_count": 80,
     "metadata": {},
     "output_type": "execute_result"
    }
   ],
   "source": [
    "acc"
   ]
  },
  {
   "cell_type": "code",
   "execution_count": 81,
   "id": "4d6fb7c1",
   "metadata": {},
   "outputs": [
    {
     "data": {
      "text/html": [
       "<div>\n",
       "<style scoped>\n",
       "    .dataframe tbody tr th:only-of-type {\n",
       "        vertical-align: middle;\n",
       "    }\n",
       "\n",
       "    .dataframe tbody tr th {\n",
       "        vertical-align: top;\n",
       "    }\n",
       "\n",
       "    .dataframe thead th {\n",
       "        text-align: right;\n",
       "    }\n",
       "</style>\n",
       "<table border=\"1\" class=\"dataframe\">\n",
       "  <thead>\n",
       "    <tr style=\"text-align: right;\">\n",
       "      <th></th>\n",
       "      <th>-2</th>\n",
       "      <th>-1</th>\n",
       "      <th>False</th>\n",
       "      <th>True</th>\n",
       "      <th>acc</th>\n",
       "    </tr>\n",
       "  </thead>\n",
       "  <tbody>\n",
       "    <tr>\n",
       "      <th>studio21_generated/competition/2002/expert.txt</th>\n",
       "      <td>0</td>\n",
       "      <td>19</td>\n",
       "      <td>0</td>\n",
       "      <td>0</td>\n",
       "      <td>0.000000</td>\n",
       "    </tr>\n",
       "    <tr>\n",
       "      <th>studio21_generated/competition/2002/question.txt</th>\n",
       "      <td>1</td>\n",
       "      <td>0</td>\n",
       "      <td>0</td>\n",
       "      <td>0</td>\n",
       "      <td>0.000000</td>\n",
       "    </tr>\n",
       "    <tr>\n",
       "      <th>studio21_generated/test/competition/3000/expert.txt</th>\n",
       "      <td>0</td>\n",
       "      <td>5</td>\n",
       "      <td>0</td>\n",
       "      <td>1</td>\n",
       "      <td>16.666667</td>\n",
       "    </tr>\n",
       "    <tr>\n",
       "      <th>studio21_generated/test/competition/3000/question.txt</th>\n",
       "      <td>0</td>\n",
       "      <td>2</td>\n",
       "      <td>4</td>\n",
       "      <td>0</td>\n",
       "      <td>0.000000</td>\n",
       "    </tr>\n",
       "    <tr>\n",
       "      <th>competition/2000/expert.txt</th>\n",
       "      <td>0</td>\n",
       "      <td>0</td>\n",
       "      <td>3</td>\n",
       "      <td>16</td>\n",
       "      <td>84.210526</td>\n",
       "    </tr>\n",
       "    <tr>\n",
       "      <th>competition/2000/question.txt</th>\n",
       "      <td>0</td>\n",
       "      <td>19</td>\n",
       "      <td>0</td>\n",
       "      <td>0</td>\n",
       "      <td>0.000000</td>\n",
       "    </tr>\n",
       "  </tbody>\n",
       "</table>\n",
       "</div>"
      ],
      "text/plain": [
       "                                                    -2  -1  False  True  \\\n",
       "studio21_generated/competition/2002/expert.txt       0  19      0     0   \n",
       "studio21_generated/competition/2002/question.txt     1   0      0     0   \n",
       "studio21_generated/test/competition/3000/expert...   0   5      0     1   \n",
       "studio21_generated/test/competition/3000/questi...   0   2      4     0   \n",
       "competition/2000/expert.txt                          0   0      3    16   \n",
       "competition/2000/question.txt                        0  19      0     0   \n",
       "\n",
       "                                                          acc  \n",
       "studio21_generated/competition/2002/expert.txt       0.000000  \n",
       "studio21_generated/competition/2002/question.txt     0.000000  \n",
       "studio21_generated/test/competition/3000/expert...  16.666667  \n",
       "studio21_generated/test/competition/3000/questi...   0.000000  \n",
       "competition/2000/expert.txt                         84.210526  \n",
       "competition/2000/question.txt                        0.000000  "
      ]
     },
     "execution_count": 81,
     "metadata": {},
     "output_type": "execute_result"
    }
   ],
   "source": [
    "acc_df = acc.copy(deep=False)\n",
    "acc_df['acc'] = 100*acc_df[True]/acc_df.sum(axis=1)\n",
    "acc_df"
   ]
  },
  {
   "cell_type": "code",
   "execution_count": 82,
   "id": "fceef644",
   "metadata": {},
   "outputs": [
    {
     "data": {
      "text/plain": [
       "0.0"
      ]
     },
     "execution_count": 82,
     "metadata": {},
     "output_type": "execute_result"
    }
   ],
   "source": [
    "strict_accuracy = 100*sum(acc_df['acc'] >= 100)/len(acc_df)\n",
    "strict_accuracy"
   ]
  },
  {
   "cell_type": "code",
   "execution_count": 78,
   "id": "bff87558",
   "metadata": {},
   "outputs": [],
   "source": [
    "def detect_type(prompt):\n",
    "    types = ['introductory', 'interview', 'competition']\n",
    "    for t in types:\n",
    "        if t in prompt:\n",
    "            return t"
   ]
  },
  {
   "cell_type": "code",
   "execution_count": 84,
   "id": "addc4af8",
   "metadata": {},
   "outputs": [
    {
     "data": {
      "text/html": [
       "<div>\n",
       "<style scoped>\n",
       "    .dataframe tbody tr th:only-of-type {\n",
       "        vertical-align: middle;\n",
       "    }\n",
       "\n",
       "    .dataframe tbody tr th {\n",
       "        vertical-align: top;\n",
       "    }\n",
       "\n",
       "    .dataframe thead th {\n",
       "        text-align: right;\n",
       "    }\n",
       "</style>\n",
       "<table border=\"1\" class=\"dataframe\">\n",
       "  <thead>\n",
       "    <tr style=\"text-align: right;\">\n",
       "      <th></th>\n",
       "      <th>-2</th>\n",
       "      <th>-1</th>\n",
       "      <th>False</th>\n",
       "      <th>True</th>\n",
       "    </tr>\n",
       "  </thead>\n",
       "  <tbody>\n",
       "    <tr>\n",
       "      <th>competition</th>\n",
       "      <td>1</td>\n",
       "      <td>45</td>\n",
       "      <td>7</td>\n",
       "      <td>17</td>\n",
       "    </tr>\n",
       "  </tbody>\n",
       "</table>\n",
       "</div>"
      ],
      "text/plain": [
       "             -2  -1  False  True\n",
       "competition   1  45      7    17"
      ]
     },
     "execution_count": 84,
     "metadata": {},
     "output_type": "execute_result"
    }
   ],
   "source": [
    "diff_df = acc.groupby(detect_type).sum()\n",
    "diff_df"
   ]
  },
  {
   "cell_type": "code",
   "execution_count": 85,
   "id": "e5a6ec08",
   "metadata": {},
   "outputs": [
    {
     "data": {
      "text/html": [
       "<div>\n",
       "<style scoped>\n",
       "    .dataframe tbody tr th:only-of-type {\n",
       "        vertical-align: middle;\n",
       "    }\n",
       "\n",
       "    .dataframe tbody tr th {\n",
       "        vertical-align: top;\n",
       "    }\n",
       "\n",
       "    .dataframe thead th {\n",
       "        text-align: right;\n",
       "    }\n",
       "</style>\n",
       "<table border=\"1\" class=\"dataframe\">\n",
       "  <thead>\n",
       "    <tr style=\"text-align: right;\">\n",
       "      <th></th>\n",
       "      <th>-2</th>\n",
       "      <th>-1</th>\n",
       "      <th>False</th>\n",
       "      <th>True</th>\n",
       "      <th>acc</th>\n",
       "    </tr>\n",
       "  </thead>\n",
       "  <tbody>\n",
       "    <tr>\n",
       "      <th>competition</th>\n",
       "      <td>1</td>\n",
       "      <td>45</td>\n",
       "      <td>7</td>\n",
       "      <td>17</td>\n",
       "      <td>24.285714</td>\n",
       "    </tr>\n",
       "  </tbody>\n",
       "</table>\n",
       "</div>"
      ],
      "text/plain": [
       "             -2  -1  False  True        acc\n",
       "competition   1  45      7    17  24.285714"
      ]
     },
     "execution_count": 85,
     "metadata": {},
     "output_type": "execute_result"
    }
   ],
   "source": [
    "diff_df['acc'] = 100*diff_df[True]/diff_df.sum(axis=1)\n",
    "diff_df"
   ]
  },
  {
   "cell_type": "code",
   "execution_count": 86,
   "id": "b4bda3df",
   "metadata": {},
   "outputs": [],
   "source": [
    "def detect_test(prompt):\n",
    "    t = 'test'\n",
    "    if t in prompt:\n",
    "        return t\n",
    "    return 'train'"
   ]
  },
  {
   "cell_type": "code",
   "execution_count": 88,
   "id": "d1fe8176",
   "metadata": {},
   "outputs": [
    {
     "data": {
      "text/html": [
       "<div>\n",
       "<style scoped>\n",
       "    .dataframe tbody tr th:only-of-type {\n",
       "        vertical-align: middle;\n",
       "    }\n",
       "\n",
       "    .dataframe tbody tr th {\n",
       "        vertical-align: top;\n",
       "    }\n",
       "\n",
       "    .dataframe thead th {\n",
       "        text-align: right;\n",
       "    }\n",
       "</style>\n",
       "<table border=\"1\" class=\"dataframe\">\n",
       "  <thead>\n",
       "    <tr style=\"text-align: right;\">\n",
       "      <th></th>\n",
       "      <th>-2</th>\n",
       "      <th>-1</th>\n",
       "      <th>False</th>\n",
       "      <th>True</th>\n",
       "    </tr>\n",
       "  </thead>\n",
       "  <tbody>\n",
       "    <tr>\n",
       "      <th>test</th>\n",
       "      <td>0</td>\n",
       "      <td>7</td>\n",
       "      <td>4</td>\n",
       "      <td>1</td>\n",
       "    </tr>\n",
       "    <tr>\n",
       "      <th>train</th>\n",
       "      <td>1</td>\n",
       "      <td>38</td>\n",
       "      <td>3</td>\n",
       "      <td>16</td>\n",
       "    </tr>\n",
       "  </tbody>\n",
       "</table>\n",
       "</div>"
      ],
      "text/plain": [
       "       -2  -1  False  True\n",
       "test    0   7      4     1\n",
       "train   1  38      3    16"
      ]
     },
     "execution_count": 88,
     "metadata": {},
     "output_type": "execute_result"
    }
   ],
   "source": [
    "test_df = acc.groupby(detect_test).sum()\n",
    "test_df"
   ]
  },
  {
   "cell_type": "code",
   "execution_count": 89,
   "id": "ca9d2b8d",
   "metadata": {},
   "outputs": [],
   "source": [
    "def detect_summary(prompt):\n",
    "    if prompt.endswith('question.txt'):\n",
    "        return 'question'"
   ]
  },
  {
   "cell_type": "code",
   "execution_count": 98,
   "id": "02e9c727",
   "metadata": {},
   "outputs": [
    {
     "name": "stdout",
     "output_type": "stream",
     "text": [
      "                                                  -2  -1  False  True\n",
      "studio21_generated/competition/2002/expert.txt     0  19      0     0\n",
      "studio21_generated/competition/2002/question.txt   1   0      0     0\n",
      "<class 'pandas.core.frame.DataFrame'>\n",
      "                                                    -2  -1  False  True\n",
      "studio21_generated/test/competition/3000/expert...   0   5      0     1\n",
      "studio21_generated/test/competition/3000/questi...   0   2      4     0\n",
      "<class 'pandas.core.frame.DataFrame'>\n",
      "                               -2  -1  False  True\n",
      "competition/2000/expert.txt     0   0      3    16\n",
      "competition/2000/question.txt   0  19      0     0\n",
      "<class 'pandas.core.frame.DataFrame'>\n"
     ]
    }
   ],
   "source": [
    "for _, g in acc.groupby(np.arange(len(acc)) // 2):\n",
    "    print(g)\n",
    "    print(type(g))"
   ]
  },
  {
   "cell_type": "code",
   "execution_count": 101,
   "id": "4d3a47f2",
   "metadata": {},
   "outputs": [
    {
     "name": "stdout",
     "output_type": "stream",
     "text": [
      "-2        1\n",
      "-1      -19\n",
      "False     0\n",
      "True      0\n",
      "dtype: int64\n",
      "-2       0\n",
      "-1      -3\n",
      "False    4\n",
      "True    -1\n",
      "dtype: int64\n",
      "-2        0\n",
      "-1       19\n",
      "False    -3\n",
      "True    -16\n",
      "dtype: int64\n"
     ]
    }
   ],
   "source": [
    "t = acc.iterrows()\n",
    "for (i, row1), (j, row2) in zip(t, t):\n",
    "    #print(f'I am row1\\n{row1}')\n",
    "    #print(f'I am row2\\n{row2}')\n",
    "    b = row2 - row1\n",
    "    print(b)"
   ]
  },
  {
   "cell_type": "code",
   "execution_count": 106,
   "id": "cd324e24",
   "metadata": {},
   "outputs": [],
   "source": [
    "for k, v in itertools.filterfalse(lambda x: int(x[0]) % 2, results.items()):\n",
    "    k = int(k)\n",
    "    if questions[k].endswith('expert.txt'):\n",
    "        summary = v\n",
    "        original = results[str(k+1)]\n",
    "    else:\n",
    "        summary = results[str(k+1)]\n",
    "        original = v"
   ]
  }
 ],
 "metadata": {
  "kernelspec": {
   "display_name": "Python 3 (ipykernel)",
   "language": "python",
   "name": "python3"
  },
  "language_info": {
   "codemirror_mode": {
    "name": "ipython",
    "version": 3
   },
   "file_extension": ".py",
   "mimetype": "text/x-python",
   "name": "python",
   "nbconvert_exporter": "python",
   "pygments_lexer": "ipython3",
   "version": "3.9.7"
  }
 },
 "nbformat": 4,
 "nbformat_minor": 5
}
