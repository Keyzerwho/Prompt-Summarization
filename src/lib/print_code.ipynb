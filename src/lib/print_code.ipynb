{
 "cells": [
  {
   "cell_type": "code",
   "execution_count": 38,
   "metadata": {},
   "outputs": [],
   "source": [
    "import json\n",
    "import shutil\n",
    "import pandas as pd\n",
    "\n",
    "from pathlib import Path"
   ]
  },
  {
   "cell_type": "code",
   "execution_count": 3,
   "metadata": {},
   "outputs": [],
   "source": [
    "PATH_TO_DATA = Path('../../data/experiments/aggregate_results').resolve()\n",
    "expert_f = PATH_TO_DATA.joinpath('12-04-2021/14_04_08')\n",
    "summary_f = PATH_TO_DATA.joinpath('12-05-2021/10_26_23')\n",
    "gpt_f = PATH_TO_DATA.joinpath('12-05-2021/13_46_24')\n",
    "studio_f = PATH_TO_DATA.joinpath('02-02-2022/10_07_59')"
   ]
  },
  {
   "cell_type": "code",
   "execution_count": 18,
   "metadata": {},
   "outputs": [],
   "source": [
    "def get_code_json(dirname):\n",
    "    prob = dirname.joinpath('test.json')\n",
    "    code = dirname.joinpath('all_codes.json')\n",
    "    with open(prob) as f:\n",
    "        probs = json.load(f)\n",
    "    with open(code) as f:\n",
    "        codes = json.load(f)\n",
    "    \n",
    "    probs = list(map(lambda x: x.split('human_generated/')[-1], probs))\n",
    "    probs = list(map(lambda x: x.split('studio21_generated/')[-1], probs))\n",
    "    codes = list(map(lambda x: 'def code():'+x, codes.values()))\n",
    "    result = dict()\n",
    "    for p, c in zip(probs, codes):\n",
    "        result[p] = c\n",
    "        \n",
    "    return result"
   ]
  },
  {
   "cell_type": "code",
   "execution_count": 54,
   "metadata": {},
   "outputs": [],
   "source": [
    "expert = get_code_json(expert_f)\n",
    "summary = get_code_json(summary_f)\n",
    "gpt = get_code_json(gpt_f)\n",
    "studio = get_code_json(studio_f)\n",
    "RESULT_PATH = Path('./results').resolve()\n",
    "DATA_PATH = Path('../../data/human_generated').resolve()\n",
    "PWD = Path('.').resolve()\n",
    "\n",
    "def view_code(fname, out_file=False):\n",
    "    expert_txt = fname+'/expert.txt'\n",
    "    summary_txt = fname+'/summary.txt'\n",
    "    original_txt = fname+'/question.txt'\n",
    "\n",
    "    exp_str = '\\nOriginal Generated Code for expert.txt\\n'\n",
    "    exp_str += expert[original_txt]\n",
    "    exp_str += '\\n\\nSummary Generated Code for expert.txt\\n'\n",
    "    exp_str += expert[expert_txt]\n",
    "    exp_orig_code = expert[original_txt] + '\\ncode()'\n",
    "    exp_sum_code = expert[expert_txt] + '\\ncode()'\n",
    "\n",
    "    sum_str = '\\n\\nOriginal Generated Code for summary.txt\\n'\n",
    "    sum_str += summary[original_txt]\n",
    "    sum_str += '\\n\\nSummary Generated Code for summary.txt\\n'\n",
    "    sum_str += summary[summary_txt]\n",
    "    sum_orig_code = summary[original_txt] + '\\ncode()'\n",
    "    sum_sum_code = summary[summary_txt] + '\\ncode()'\n",
    "\n",
    "    stu_str = '\\n\\nOriginal Generated Code for studio21.txt\\n'\n",
    "    stu_str += studio[original_txt]\n",
    "    stu_str += '\\n\\nSummary Generated Code for studio21.txt\\n'\n",
    "    stu_str += studio[expert_txt]\n",
    "    stu_orig_code = studio[original_txt] + '\\ncode()'\n",
    "    stu_sum_code = studio[expert_txt] + '\\ncode()'\n",
    "\n",
    "    out_str = f'Code for problem {fname}\\n' + exp_str + sum_str + stu_str\n",
    "\n",
    "    if out_file:\n",
    "        new_path = RESULT_PATH.joinpath(fname)\n",
    "        new_path.mkdir(parents=True, exist_ok=True)\n",
    "        res_fname = new_path.joinpath('codes.txt')\n",
    "        with open(res_fname, 'w') as f:\n",
    "            f.write(out_str)\n",
    "        res_fname = new_path.joinpath('expert_results.txt')\n",
    "        with open(res_fname, 'w') as f:\n",
    "            f.write(exp_str)\n",
    "        res_fname = new_path.joinpath('summary_results.txt')\n",
    "        with open(res_fname, 'w') as f:\n",
    "            f.write(sum_str)\n",
    "        res_fname = new_path.joinpath('studio21_results.txt')\n",
    "        with open(res_fname, 'w') as f:\n",
    "            f.write(stu_str)\n",
    "\n",
    "        res_fname = new_path.joinpath('expert_original_code.py')\n",
    "        with open(res_fname, 'w') as f:\n",
    "            f.write(exp_orig_code)\n",
    "        res_fname = new_path.joinpath('expert_summary_code.py')\n",
    "        with open(res_fname, 'w') as f:\n",
    "            f.write(exp_sum_code)\n",
    "\n",
    "        res_fname = new_path.joinpath('summary_original_code.py')\n",
    "        with open(res_fname, 'w') as f:\n",
    "            f.write(sum_orig_code)\n",
    "        res_fname = new_path.joinpath('summary_summary_code.py')\n",
    "        with open(res_fname, 'w') as f:\n",
    "            f.write(sum_sum_code)\n",
    "\n",
    "        res_fname = new_path.joinpath('studio21_original_code.py')\n",
    "        with open(res_fname, 'w') as f:\n",
    "            f.write(stu_orig_code)\n",
    "        res_fname = new_path.joinpath('studio21_summary_code.py')\n",
    "        with open(res_fname, 'w') as f:\n",
    "            f.write(stu_sum_code)\n",
    "\n",
    "        test_case_src = DATA_PATH.joinpath(fname, 'input_output.json')\n",
    "        test_case_dst = new_path.joinpath('input_output.json')\n",
    "        shutil.copy(test_case_src, test_case_dst)\n",
    "\n",
    "        script_src = PWD.joinpath('jq_script.sh')\n",
    "        script_dst = new_path.joinpath('jq_script.sh')\n",
    "        shutil.copy(script_src, script_dst)\n",
    "\n",
    "        solutions = DATA_PATH.joinpath(fname, 'solutions.json')\n",
    "        with open(solutions) as f:\n",
    "            sols = json.load(f)\n",
    "        solutions = new_path.joinpath('solution.py')\n",
    "        with open(solutions, 'w') as f:\n",
    "            f.write(sols[0])\n",
    "    else:\n",
    "        print(out_str)"
   ]
  },
  {
   "cell_type": "code",
   "execution_count": 56,
   "metadata": {},
   "outputs": [],
   "source": [
    "view_code('train/competition/2033', out_file=True)"
   ]
  },
  {
   "cell_type": "code",
   "execution_count": 52,
   "metadata": {},
   "outputs": [],
   "source": [
    "view_code('train/competition/2004', out_file=True)"
   ]
  },
  {
   "cell_type": "code",
   "execution_count": 58,
   "metadata": {},
   "outputs": [],
   "source": [
    "ser = pd.read_csv('sorted_studio_better.csv', header=None)"
   ]
  },
  {
   "cell_type": "code",
   "execution_count": 68,
   "metadata": {},
   "outputs": [],
   "source": [
    "for _, s in ser.iterrows():\n",
    "    view_code(s[0], out_file=True)"
   ]
  }
 ],
 "metadata": {
  "interpreter": {
   "hash": "6324619f79a7c3c64874c1153b9e4d9704e42efadb3dfc80d775198c9a09c545"
  },
  "kernelspec": {
   "display_name": "Python 3.9.4 ('GPT')",
   "language": "python",
   "name": "python3"
  },
  "language_info": {
   "codemirror_mode": {
    "name": "ipython",
    "version": 3
   },
   "file_extension": ".py",
   "mimetype": "text/x-python",
   "name": "python",
   "nbconvert_exporter": "python",
   "pygments_lexer": "ipython3",
   "version": "3.9.4"
  },
  "orig_nbformat": 4
 },
 "nbformat": 4,
 "nbformat_minor": 2
}
